{
 "cells": [
  {
   "cell_type": "code",
   "execution_count": null,
   "metadata": {},
   "outputs": [],
   "source": [
    "# ignore warnings\n",
    "import warnings\n",
    "warnings.filterwarnings(\"ignore\")\n",
    "\n",
    "# Wrangling\n",
    "import pandas as pd\n",
    "import numpy as np\n",
    "from sklearn.model_selection import train_test_split\n",
    "from sklearn.preprocessing import StandardScaler, MinMaxScaler\n",
    "\n",
    "# Statistical Tests\n",
    "import scipy.stats as stats\n",
    "import viz_kmeans\n",
    "from scipy.stats import norm\n",
    "\n",
    "# Visualizing\n",
    "import matplotlib.pyplot as plt\n",
    "from matplotlib import cm\n",
    "import matplotlib.dates as dates\n",
    "import seaborn as sns\n",
    "from sklearn.model_selection import learning_curve\n",
    "import datetime\n",
    "\n",
    "pd.options.display.float_format = '{:20,.2f}'.format\n",
    "\n",
    "import env\n",
    "\n",
    "from wrangle import clean_zillow, missing_zero_values_table, features_missing, handle_missing_values, get_zillow_data, split, seperate_y, scale_data, split_seperate_scale \n",
    "\n",
    "import explore"
   ]
  },
  {
   "cell_type": "code",
   "execution_count": null,
   "metadata": {},
   "outputs": [],
   "source": [
    "df = pd.read_csv(\"zillowcluster_df.csv\")\n",
    "df = clean_zillow(df)"
   ]
  },
  {
   "cell_type": "code",
   "execution_count": null,
   "metadata": {},
   "outputs": [],
   "source": [
    "df.head()"
   ]
  },
  {
   "cell_type": "code",
   "execution_count": null,
   "metadata": {},
   "outputs": [],
   "source": [
    "missing_zero_values_table(df)"
   ]
  },
  {
   "cell_type": "code",
   "execution_count": null,
   "metadata": {},
   "outputs": [],
   "source": [
    "train, validate, test = split(df)"
   ]
  },
  {
   "cell_type": "code",
   "execution_count": null,
   "metadata": {},
   "outputs": [],
   "source": [
    "X_train, y_train, X_validate, y_validate, X_test, y_test = seperate_y(train, validate, test)"
   ]
  },
  {
   "cell_type": "code",
   "execution_count": null,
   "metadata": {},
   "outputs": [],
   "source": [
    "train_scaled, validate_scaled, test_scaled = scale_data(train, validate, test)"
   ]
  },
  {
   "cell_type": "code",
   "execution_count": null,
   "metadata": {},
   "outputs": [],
   "source": [
    "num_d = train.select_dtypes(exclude=['object', 'uint8', 'datetime64[ns]'])"
   ]
  },
  {
   "cell_type": "code",
   "execution_count": null,
   "metadata": {},
   "outputs": [],
   "source": [
    "\n",
    "quant_vars = list(num_d.columns.values)"
   ]
  },
  {
   "cell_type": "code",
   "execution_count": null,
   "metadata": {},
   "outputs": [],
   "source": [
    "quant_vars"
   ]
  },
  {
   "cell_type": "code",
   "execution_count": null,
   "metadata": {},
   "outputs": [],
   "source": []
  },
  {
   "cell_type": "code",
   "execution_count": null,
   "metadata": {},
   "outputs": [],
   "source": [
    "def heat_map(train):\n",
    "    plt.figure(figsize=(22,14))\n",
    "    q = sns.heatmap(df.corr(), cmap='RdYlBu', annot=True, center=0)\n",
    "    return q"
   ]
  },
  {
   "cell_type": "code",
   "execution_count": null,
   "metadata": {},
   "outputs": [],
   "source": []
  },
  {
   "cell_type": "code",
   "execution_count": null,
   "metadata": {},
   "outputs": [],
   "source": [
    "def pair_plot(df):\n",
    "    p = sns.pairplot(df)\n",
    "    return p"
   ]
  },
  {
   "cell_type": "code",
   "execution_count": null,
   "metadata": {},
   "outputs": [],
   "source": [
    "\n",
    "sns.barplot(data = train, x = 'fips', y = 'logerror')\n",
    "plt.title(\"Is the logerror different by county?\")\n",
    "plt.show()"
   ]
  },
  {
   "cell_type": "code",
   "execution_count": null,
   "metadata": {},
   "outputs": [],
   "source": [
    "\n",
    "sns.lmplot(x='calculatedfinishedsquarefeet', y='logerror', col='fips', data=train, fit_reg=True, hue='fips', palette=dict({6037:\"cyan\", 6059:\"m\", 6111:\"orange\"}), line_kws={'color': 'red'})\n",
    "\n",
    "\n",
    "plt.show()\n",
    "\n"
   ]
  },
  {
   "cell_type": "code",
   "execution_count": null,
   "metadata": {},
   "outputs": [],
   "source": []
  },
  {
   "cell_type": "code",
   "execution_count": null,
   "metadata": {},
   "outputs": [],
   "source": [
    "sns.lmplot(x='acres_bin', y='logerror', col='fips', data=train, fit_reg=True, hue='fips', palette=dict({6037:\"cyan\", 6059:\"m\", 6111:\"orange\"}), line_kws={'color': 'red'})\n",
    "\n",
    "\n",
    "plt.show()\n"
   ]
  },
  {
   "cell_type": "code",
   "execution_count": null,
   "metadata": {},
   "outputs": [],
   "source": []
  },
  {
   "cell_type": "code",
   "execution_count": null,
   "metadata": {},
   "outputs": [],
   "source": [
    "sns.lmplot(x='age_bin', y='logerror', col='fips', data=train, fit_reg=True, hue='fips', palette=dict({6037:\"cyan\", 6059:\"m\", 6111:\"orange\"}), line_kws={'color': 'red'})\n",
    "\n",
    "\n",
    "plt.show()"
   ]
  },
  {
   "cell_type": "code",
   "execution_count": null,
   "metadata": {},
   "outputs": [],
   "source": []
  },
  {
   "cell_type": "code",
   "execution_count": null,
   "metadata": {},
   "outputs": [],
   "source": [
    "sns.lmplot(x='bathroomcnt', y='logerror', col='fips', data=train, fit_reg=True, hue='fips', palette=dict({6037:\"cyan\", 6059:\"m\", 6111:\"orange\"}), line_kws={'color': 'red'})\n",
    "\n",
    "\n",
    "plt.show()"
   ]
  },
  {
   "cell_type": "code",
   "execution_count": null,
   "metadata": {},
   "outputs": [],
   "source": []
  },
  {
   "cell_type": "code",
   "execution_count": null,
   "metadata": {},
   "outputs": [],
   "source": [
    "sns.lmplot(x='taxrate', y='logerror', col='fips', data=train, fit_reg=True, hue='fips', palette=dict({6037:\"cyan\", 6059:\"m\", 6111:\"orange\"}), line_kws={'color': 'red'})\n",
    "\n",
    "\n",
    "plt.show()"
   ]
  },
  {
   "cell_type": "code",
   "execution_count": null,
   "metadata": {},
   "outputs": [],
   "source": []
  },
  {
   "cell_type": "code",
   "execution_count": null,
   "metadata": {},
   "outputs": [],
   "source": [
    "sns.lmplot(x='baths_per_sqft', y='logerror', col='fips', data=train, fit_reg=True, hue='fips', palette=dict({6037:\"cyan\", 6059:\"m\", 6111:\"orange\"}), line_kws={'color': 'red'})\n",
    "\n",
    "\n",
    "plt.show()"
   ]
  },
  {
   "cell_type": "code",
   "execution_count": null,
   "metadata": {},
   "outputs": [],
   "source": []
  },
  {
   "cell_type": "code",
   "execution_count": null,
   "metadata": {},
   "outputs": [],
   "source": [
    "sns.lmplot(x='lotsizesquarefeet', y='logerror', col='fips', data=train, fit_reg=True, hue='fips', palette=dict({6037:\"cyan\", 6059:\"m\", 6111:\"orange\"}), line_kws={'color': 'red'})\n",
    "\n",
    "\n",
    "plt.show()"
   ]
  },
  {
   "cell_type": "code",
   "execution_count": null,
   "metadata": {},
   "outputs": [],
   "source": []
  },
  {
   "cell_type": "code",
   "execution_count": null,
   "metadata": {},
   "outputs": [],
   "source": []
  },
  {
   "cell_type": "code",
   "execution_count": null,
   "metadata": {},
   "outputs": [],
   "source": [
    "\n",
    "logroom = sns.jointplot(x=\"acres\", y=\"logerror\", data=train, kind='reg')\n",
    "regline = logroom.ax_joint.get_lines()[0]\n",
    "regline.set_color('red')\n",
    "regline.set_zorder(5)"
   ]
  },
  {
   "cell_type": "code",
   "execution_count": null,
   "metadata": {},
   "outputs": [],
   "source": []
  },
  {
   "cell_type": "markdown",
   "metadata": {},
   "source": [
    "acreage seems to create a higher positive log error as it increases but there are some outliers that could be affecting this"
   ]
  },
  {
   "cell_type": "code",
   "execution_count": null,
   "metadata": {},
   "outputs": [],
   "source": [
    "sns.pairplot(data=train[['logerror','roomcnt','latitude', 'acres', 'taxrate']], corner=False )"
   ]
  },
  {
   "cell_type": "code",
   "execution_count": null,
   "metadata": {},
   "outputs": [],
   "source": [
    "# visualize outliers using boxplots:\n",
    "\n",
    "plt.figure(figsize = (12,8))\n",
    "plt.subplot(221)\n",
    "sns.boxplot(y = train.logerror)\n",
    "\n",
    "plt.subplot(222)\n",
    "sns.boxplot(y = train.taxrate)\n",
    "\n",
    "plt.subplot(223)\n",
    "sns.boxplot(y = train.acres)"
   ]
  },
  {
   "cell_type": "markdown",
   "metadata": {},
   "source": [
    "Lot of outliers with acreage and taxrate. Probably needs to be handled"
   ]
  },
  {
   "cell_type": "code",
   "execution_count": null,
   "metadata": {},
   "outputs": [],
   "source": [
    "# Calculate q1, q3 and iqr for income\n",
    "\n",
    "q1 = df.acres.quantile(0.25)\n",
    "q3 = df.acres.quantile(0.75)\n",
    "iqr = q3 - q1\n",
    "k = 3.0\n",
    "\n",
    "# calculate upper and lower ranges\n",
    "upper_bound_income =  q3 + k * iqr\n",
    "lower_bound_income =  q1 - k * iqr\n",
    "\n",
    "upper_bound_income"
   ]
  },
  {
   "cell_type": "code",
   "execution_count": null,
   "metadata": {},
   "outputs": [],
   "source": [
    "df.acres.median()"
   ]
  },
  {
   "cell_type": "code",
   "execution_count": null,
   "metadata": {},
   "outputs": [],
   "source": [
    "# Calculate q1, q3 and iqr for income\n",
    "\n",
    "q1 = df.taxrate.quantile(0.25)\n",
    "q3 = df.taxrate.quantile(0.75)\n",
    "iqr = q3 - q1\n",
    "k = 3.0\n",
    "\n",
    "# calculate upper and lower ranges\n",
    "upper_bound_income =  q3 + k * iqr\n",
    "lower_bound_income =  q1 - k * iqr\n",
    "\n",
    "upper_bound_income"
   ]
  },
  {
   "cell_type": "code",
   "execution_count": null,
   "metadata": {},
   "outputs": [],
   "source": [
    "\n",
    "# Look at the distribution of the target variable (log-error)\n",
    "print(train['logerror'].describe())\n",
    "train.loc[abs(train['logerror']) < .75, 'logerror'].hist(bins=40)"
   ]
  },
  {
   "cell_type": "markdown",
   "metadata": {},
   "source": [
    "the distribution of the log error looks fairly normal. There appears to be some outliers around .6."
   ]
  },
  {
   "cell_type": "markdown",
   "metadata": {},
   "source": []
  },
  {
   "cell_type": "code",
   "execution_count": null,
   "metadata": {},
   "outputs": [],
   "source": [
    "#define the thing\n",
    "kmeans = KMeans(n_clusters=3)\n",
    "\n",
    "# fit the thing\n",
    "kmeans.fit(X_scaled)\n",
    "\n",
    "# Use (predict using) the thing \n",
    "kmeans.predict(X_scaled)"
   ]
  },
  {
   "cell_type": "code",
   "execution_count": null,
   "metadata": {},
   "outputs": [],
   "source": []
  }
 ],
 "metadata": {
  "kernelspec": {
   "display_name": "Python 3",
   "language": "python",
   "name": "python3"
  },
  "language_info": {
   "codemirror_mode": {
    "name": "ipython",
    "version": 3
   },
   "file_extension": ".py",
   "mimetype": "text/x-python",
   "name": "python",
   "nbconvert_exporter": "python",
   "pygments_lexer": "ipython3",
   "version": "3.8.5"
  }
 },
 "nbformat": 4,
 "nbformat_minor": 4
}
