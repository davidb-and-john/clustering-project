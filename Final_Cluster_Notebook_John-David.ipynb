{
 "cells": [
  {
   "cell_type": "markdown",
   "metadata": {},
   "source": [
    "\n",
    "<div align=\"center\"><img width=\"275\" height=\"50\" src=\"http://zillow.mediaroom.com/image/Zillow_Wordmark_Blue_RGB.jpg\" /> </div> \n",
    "\n",
    "<div align=\"center\"> <h1>Cluster Project</h1> \n",
    "  <h6> by John Grinstead & David Berchelmann -- April 7, 2021 </h6> </div>\n",
    "  \n",
    "  ------------------------------------------------"
   ]
  },
  {
   "cell_type": "markdown",
   "metadata": {},
   "source": [
    "<div align=\"center\"><img width=\"800\" height=\"50\" src=\"https://www.zillowstatic.com/s3/homepage/static/Buy_a_home.png\" /> </div>\n",
    "\n"
   ]
  },
  {
   "cell_type": "markdown",
   "metadata": {},
   "source": [
    "-------\n",
    "\n",
    "<h1> Welcome! </h1>\n",
    "\n",
    "The following jupyter notebook will take you through my regression project focusing on Zillow. The dataset comes from a SQL database and can also be accessed via Kaggle.com. \n",
    "\n",
    "All of the files and notebooks for this project can be accessed via the github repostiory located at --> https://github.com/davidb-and-john/clustering-project\n",
    "\n",
    "\n",
    "\n",
    "----"
   ]
  },
  {
   "cell_type": "markdown",
   "metadata": {},
   "source": [
    "<h1> Executive Summary </h1>\n",
    "\n",
    "------\n",
    "\n",
    "<h4><b>The Problem</b></h4>\n",
    "\n",
    "- What is driving the errors in the Zestimates?\n",
    "\n",
    "<h4><b>The Goal</b></h4>\n",
    "\n",
    "- Use clustering to identify what groups of features are the strongest drivers of log error.\n",
    "\n",
    "<h4><b>The Process</b></h4>\n",
    "\n",
    "  * Acquire the Data\n",
    "  * Prepare \n",
    "  * Explore \n",
    "  * Model\n",
    "  * Create Recommendations Based On Findings \n",
    "  \n",
    "<h4><b>The Findings</b></h4>\n",
    "\n",
    "    \n",
    "    \n",
    "\n",
    "\n",
    "-------\n"
   ]
  },
  {
   "cell_type": "markdown",
   "metadata": {},
   "source": [
    "<h3><u>Environment Setup</u></h3>"
   ]
  },
  {
   "cell_type": "code",
   "execution_count": 4,
   "metadata": {},
   "outputs": [],
   "source": [
    "# packages for data analysis & mapping\n",
    "import pandas as pd\n",
    "import numpy as np\n",
    "import matplotlib.pyplot as plt\n",
    "from matplotlib import cm\n",
    "import matplotlib.dates as dates\n",
    "import seaborn as sns\n",
    "import plotly.express as px\n",
    "from datetime import date \n",
    "\n",
    "\n",
    "# Statistical Tests\n",
    "import scipy.stats as stats\n",
    "from math import sqrt\n",
    "from scipy.stats import norm\n",
    "\n",
    "\n",
    "# modeling methods\n",
    "from sklearn.metrics import mean_squared_error, r2_score, explained_variance_score\n",
    "from sklearn.linear_model import LinearRegression, LassoLars, TweedieRegressor\n",
    "from sklearn.preprocessing import PolynomialFeatures, MinMaxScaler, StandardScaler\n",
    "from sklearn.model_selection import train_test_split, learning_curve\n",
    "from sklearn.linear_model import LinearRegression\n",
    "from sklearn.feature_selection import SelectKBest, f_regression, RFE \n",
    "import sklearn.preprocessing\n",
    "pd.options.display.float_format = '{:20,.2f}'.format\n",
    "\n",
    "\n",
    "# address warnings\n",
    "import warnings\n",
    "warnings.filterwarnings(\"ignore\")\n",
    "\n",
    "# acquire, prep, train, & explore functions\n",
    "from wrangle import get_connection, new_zillow_data, get_zillow_data, clean_zillow, split, seperate_y, scale_data, split_seperate_scale \n",
    "\n"
   ]
  },
  {
   "cell_type": "markdown",
   "metadata": {},
   "source": [
    "<h4> Data Validation </h4>\n",
    "\n",
    " - Before the data was brought in through the acquire file, we investigated the set in SQL. Below are a few of our findings:\n",
    "     - Some properties were labeled as 'single family residential' but had a unit count of more than 1\n",
    "     - There were a number of properties that lacked location info (zip, lat, long, fips), these will be dropped in prep\n",
    "     - Bedrooms and Bathrooms both have rows that have a value of 0. These were filled filled with the median count for each feature.\n",
    "     - There were entries that had multiple transaction dates. To account for this, we filtered for the latest max date. We also did this for log error."
   ]
  },
  {
   "cell_type": "markdown",
   "metadata": {},
   "source": [
    "---\n",
    "<h3><u>Acquire the Data</u></h3>\n",
    "\n",
    "----"
   ]
  },
  {
   "cell_type": "code",
   "execution_count": 7,
   "metadata": {},
   "outputs": [
    {
     "name": "stdout",
     "output_type": "stream",
     "text": [
      "Our original dataframe is coming in with 77413 rows and 68 columns.\n"
     ]
    }
   ],
   "source": [
    "df = pd.read_csv(\"zillowcluster_df.csv\")\n",
    "print(f'Our original dataframe is coming in with {df.shape[0]} rows and {df.shape[1]} columns.')"
   ]
  },
  {
   "cell_type": "code",
   "execution_count": 6,
   "metadata": {
    "collapsed": true,
    "jupyter": {
     "outputs_hidden": true
    }
   },
   "outputs": [
    {
     "data": {
      "text/plain": [
       "Unnamed: 0                          0\n",
       "typeconstructiontypeid          77191\n",
       "storytypeid                     77363\n",
       "heatingorsystemtypeid           27974\n",
       "buildingclasstypeid             77398\n",
       "architecturalstyletypeid        77207\n",
       "airconditioningtypeid           52460\n",
       "parcelid                            0\n",
       "id                                  0\n",
       "basementsqft                    77363\n",
       "bathroomcnt                        33\n",
       "bedroomcnt                         33\n",
       "buildingqualitytypeid           27742\n",
       "calculatedbathnbr                 642\n",
       "decktypeid                      76799\n",
       "finishedfloor1squarefeet        71390\n",
       "calculatedfinishedsquarefeet      229\n",
       "finishedsquarefeet12             3665\n",
       "finishedsquarefeet13            77372\n",
       "finishedsquarefeet15            74404\n",
       "finishedsquarefeet50            71390\n",
       "finishedsquarefeet6             77027\n",
       "fips                               33\n",
       "fireplacecnt                    69137\n",
       "fullbathcnt                       642\n",
       "garagecarcnt                    51939\n",
       "garagetotalsqft                 51939\n",
       "hashottuborspa                  75875\n",
       "latitude                           33\n",
       "longitude                          33\n",
       "lotsizesquarefeet                8272\n",
       "poolcnt                         61276\n",
       "poolsizesum                     76546\n",
       "pooltypeid10                    76949\n",
       "pooltypeid2                     76339\n",
       "pooltypeid7                     62371\n",
       "propertycountylandusecode          33\n",
       "propertylandusetypeid              33\n",
       "propertyzoningdesc              27083\n",
       "rawcensustractandblock             33\n",
       "regionidcity                     1504\n",
       "regionidcounty                     33\n",
       "regionidneighborhood            46523\n",
       "regionidzip                        83\n",
       "roomcnt                            33\n",
       "threequarterbathnbr             67317\n",
       "unitcnt                         26851\n",
       "yardbuildingsqft17              75025\n",
       "yardbuildingsqft26              77343\n",
       "yearbuilt                         296\n",
       "numberofstories                 59853\n",
       "fireplaceflag                   77241\n",
       "structuretaxvaluedollarcnt        145\n",
       "taxvaluedollarcnt                  34\n",
       "assessmentyear                     33\n",
       "landtaxvaluedollarcnt              35\n",
       "taxamount                          38\n",
       "taxdelinquencyflag              74527\n",
       "taxdelinquencyyear              74527\n",
       "censustractandblock               277\n",
       "logerror                            0\n",
       "transactiondate                     0\n",
       "airconditioningdesc             52460\n",
       "architecturalstyledesc          77207\n",
       "buildingclassdesc               77398\n",
       "heatingorsystemdesc             27974\n",
       "storydesc                       77363\n",
       "typeconstructiondesc            77191\n",
       "dtype: int64"
      ]
     },
     "execution_count": 6,
     "metadata": {},
     "output_type": "execute_result"
    }
   ],
   "source": [
    "df.isna().sum()"
   ]
  },
  {
   "cell_type": "code",
   "execution_count": null,
   "metadata": {},
   "outputs": [],
   "source": []
  },
  {
   "cell_type": "code",
   "execution_count": null,
   "metadata": {},
   "outputs": [],
   "source": []
  },
  {
   "cell_type": "code",
   "execution_count": null,
   "metadata": {},
   "outputs": [],
   "source": []
  },
  {
   "cell_type": "markdown",
   "metadata": {},
   "source": [
    "-----\n",
    "\n",
    "<h3>Takeaways From Acquire</h3>\n",
    "\n",
    "-----"
   ]
  },
  {
   "cell_type": "code",
   "execution_count": null,
   "metadata": {},
   "outputs": [],
   "source": []
  },
  {
   "cell_type": "markdown",
   "metadata": {},
   "source": [
    "----\n",
    "\n",
    "<h3>Clean/Prep the Data</h3>\n",
    "\n",
    "----"
   ]
  },
  {
   "cell_type": "code",
   "execution_count": null,
   "metadata": {},
   "outputs": [],
   "source": []
  },
  {
   "cell_type": "code",
   "execution_count": null,
   "metadata": {},
   "outputs": [],
   "source": []
  },
  {
   "cell_type": "code",
   "execution_count": null,
   "metadata": {},
   "outputs": [],
   "source": []
  },
  {
   "cell_type": "code",
   "execution_count": null,
   "metadata": {},
   "outputs": [],
   "source": []
  },
  {
   "cell_type": "markdown",
   "metadata": {},
   "source": [
    "-----\n",
    "<h3> Prep Takeaways </h3>\n",
    "\n",
    "---------"
   ]
  },
  {
   "cell_type": "code",
   "execution_count": null,
   "metadata": {},
   "outputs": [],
   "source": []
  },
  {
   "cell_type": "code",
   "execution_count": null,
   "metadata": {},
   "outputs": [],
   "source": []
  },
  {
   "cell_type": "markdown",
   "metadata": {},
   "source": [
    "<h3><u>Data Dictionary</u></h3>\n",
    "\n",
    "\n",
    "\n",
    "|   Feature      |  Data Type   | Description    |\n",
    "| :------------- | :----------: | -----------: |\n",
    "|  parcelid | int64   | Unique parcel identifier    |\n",
    "| landuse_id     | float64 | Identifier for landuse type|\n",
    "| landuse_desc   | object | Describes the type of landuse|\n",
    "| last_sold_date  | object |transaction date of when property last sold|\n",
    "|  total_sqft  | float64   | Total livable square footage    |\n",
    "| bedroom_quanity    | float64 | count of bedrooms|\n",
    "| bathroom_quanity   | float64 | count of bathrooms|\n",
    "| fips  | object | Federal Information Processing Code (county code)|\n",
    "|  zip_code | object   | 5 digit code used by US Postal Service    |\n",
    "| year_built    | object | year home was built|\n",
    "| tax_assesed_value   | float64 | total value of home established by taxing authority|\n",
    "| latitude  | float64 | geographic coordinate that specifies the north–south position |\n",
    "|  longitude  | float64   | geographic coordinate that specifies the east-west position     |\n",
    "| tax_assess_yr    | float64 | The most recent year property taxes were assessed|\n",
    "| property_tax   | float64 | ad valorem tax on the value of a property.|\n",
    "| age_of_home  | int64 | age of home as of today's date in years|\n",
    "| tax_rate    | float64 | This is property tax / tax_assessed_value|\n",
    "| baths_pers_qft   | float64 | numbers of baths per sqft|\n",
    "| beds_pers_qft  | float64| number of beds per sqft|"
   ]
  },
  {
   "cell_type": "markdown",
   "metadata": {},
   "source": [
    "-----\n",
    "\n",
    "<h3> Explore the Data </h3>\n",
    "\n",
    "-----"
   ]
  },
  {
   "cell_type": "code",
   "execution_count": null,
   "metadata": {},
   "outputs": [],
   "source": []
  },
  {
   "cell_type": "code",
   "execution_count": null,
   "metadata": {},
   "outputs": [],
   "source": []
  },
  {
   "cell_type": "code",
   "execution_count": null,
   "metadata": {},
   "outputs": [],
   "source": []
  },
  {
   "cell_type": "code",
   "execution_count": null,
   "metadata": {},
   "outputs": [],
   "source": []
  },
  {
   "cell_type": "code",
   "execution_count": null,
   "metadata": {},
   "outputs": [],
   "source": []
  },
  {
   "cell_type": "code",
   "execution_count": null,
   "metadata": {},
   "outputs": [],
   "source": []
  },
  {
   "cell_type": "markdown",
   "metadata": {},
   "source": [
    "-----\n",
    "\n",
    "<h3> Model the Data </h3>\n",
    "\n",
    "-----"
   ]
  },
  {
   "cell_type": "code",
   "execution_count": null,
   "metadata": {},
   "outputs": [],
   "source": []
  },
  {
   "cell_type": "code",
   "execution_count": null,
   "metadata": {},
   "outputs": [],
   "source": []
  },
  {
   "cell_type": "code",
   "execution_count": null,
   "metadata": {},
   "outputs": [],
   "source": []
  },
  {
   "cell_type": "code",
   "execution_count": null,
   "metadata": {},
   "outputs": [],
   "source": []
  },
  {
   "cell_type": "markdown",
   "metadata": {},
   "source": [
    "-------\n",
    "\n",
    "<h3>Conclusions & Thoughts Moving Forward</h3>\n",
    "\n",
    "-----"
   ]
  },
  {
   "cell_type": "code",
   "execution_count": null,
   "metadata": {},
   "outputs": [],
   "source": []
  }
 ],
 "metadata": {
  "kernelspec": {
   "display_name": "Python 3",
   "language": "python",
   "name": "python3"
  },
  "language_info": {
   "codemirror_mode": {
    "name": "ipython",
    "version": 3
   },
   "file_extension": ".py",
   "mimetype": "text/x-python",
   "name": "python",
   "nbconvert_exporter": "python",
   "pygments_lexer": "ipython3",
   "version": "3.8.5"
  }
 },
 "nbformat": 4,
 "nbformat_minor": 4
}
